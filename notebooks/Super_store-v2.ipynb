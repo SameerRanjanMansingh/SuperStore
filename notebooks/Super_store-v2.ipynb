{
 "cells": [
  {
   "cell_type": "code",
   "execution_count": 2,
   "id": "a04911ce",
   "metadata": {},
   "outputs": [],
   "source": [
    "import pandas as pd\n",
    "import numpy as np\n",
    "import warnings"
   ]
  },
  {
   "cell_type": "code",
   "execution_count": 4,
   "id": "58ab67a8",
   "metadata": {},
   "outputs": [],
   "source": [
    "# df = pd.read_csv('../data/raw/Sample_Superstore.csv')\n",
    "df = pd.read_csv('../data/raw/Sample_Superstore.csv')"
   ]
  },
  {
   "cell_type": "code",
   "execution_count": 3,
   "id": "7f157905",
   "metadata": {
    "scrolled": true
   },
   "outputs": [
    {
     "data": {
      "text/html": [
       "<div>\n",
       "<style scoped>\n",
       "    .dataframe tbody tr th:only-of-type {\n",
       "        vertical-align: middle;\n",
       "    }\n",
       "\n",
       "    .dataframe tbody tr th {\n",
       "        vertical-align: top;\n",
       "    }\n",
       "\n",
       "    .dataframe thead th {\n",
       "        text-align: right;\n",
       "    }\n",
       "</style>\n",
       "<table border=\"1\" class=\"dataframe\">\n",
       "  <thead>\n",
       "    <tr style=\"text-align: right;\">\n",
       "      <th></th>\n",
       "      <th>Row ID</th>\n",
       "      <th>Order ID</th>\n",
       "      <th>Order Date</th>\n",
       "      <th>Ship Date</th>\n",
       "      <th>Ship Mode</th>\n",
       "      <th>Customer ID</th>\n",
       "      <th>Customer Name</th>\n",
       "      <th>Segment</th>\n",
       "      <th>Country</th>\n",
       "      <th>City</th>\n",
       "      <th>...</th>\n",
       "      <th>Postal Code</th>\n",
       "      <th>Region</th>\n",
       "      <th>Product ID</th>\n",
       "      <th>Category</th>\n",
       "      <th>Sub-Category</th>\n",
       "      <th>Product Name</th>\n",
       "      <th>Sales</th>\n",
       "      <th>Quantity</th>\n",
       "      <th>Discount</th>\n",
       "      <th>Profit</th>\n",
       "    </tr>\n",
       "  </thead>\n",
       "  <tbody>\n",
       "    <tr>\n",
       "      <th>0</th>\n",
       "      <td>1</td>\n",
       "      <td>CA-2016-152156</td>\n",
       "      <td>08-11-2016</td>\n",
       "      <td>11-11-2016</td>\n",
       "      <td>Second Class</td>\n",
       "      <td>CG-12520</td>\n",
       "      <td>Claire Gute</td>\n",
       "      <td>Consumer</td>\n",
       "      <td>United States</td>\n",
       "      <td>Henderson</td>\n",
       "      <td>...</td>\n",
       "      <td>42420</td>\n",
       "      <td>South</td>\n",
       "      <td>FUR-BO-10001798</td>\n",
       "      <td>Furniture</td>\n",
       "      <td>Bookcases</td>\n",
       "      <td>Bush Somerset Collection Bookcase</td>\n",
       "      <td>261.9600</td>\n",
       "      <td>2</td>\n",
       "      <td>0.00</td>\n",
       "      <td>41.9136</td>\n",
       "    </tr>\n",
       "    <tr>\n",
       "      <th>1</th>\n",
       "      <td>2</td>\n",
       "      <td>CA-2016-152156</td>\n",
       "      <td>08-11-2016</td>\n",
       "      <td>11-11-2016</td>\n",
       "      <td>Second Class</td>\n",
       "      <td>CG-12520</td>\n",
       "      <td>Claire Gute</td>\n",
       "      <td>Consumer</td>\n",
       "      <td>United States</td>\n",
       "      <td>Henderson</td>\n",
       "      <td>...</td>\n",
       "      <td>42420</td>\n",
       "      <td>South</td>\n",
       "      <td>FUR-CH-10000454</td>\n",
       "      <td>Furniture</td>\n",
       "      <td>Chairs</td>\n",
       "      <td>Hon Deluxe Fabric Upholstered Stacking Chairs,...</td>\n",
       "      <td>731.9400</td>\n",
       "      <td>3</td>\n",
       "      <td>0.00</td>\n",
       "      <td>219.5820</td>\n",
       "    </tr>\n",
       "    <tr>\n",
       "      <th>2</th>\n",
       "      <td>3</td>\n",
       "      <td>CA-2016-138688</td>\n",
       "      <td>12-06-2016</td>\n",
       "      <td>16-06-2016</td>\n",
       "      <td>Second Class</td>\n",
       "      <td>DV-13045</td>\n",
       "      <td>Darrin Van Huff</td>\n",
       "      <td>Corporate</td>\n",
       "      <td>United States</td>\n",
       "      <td>Los Angeles</td>\n",
       "      <td>...</td>\n",
       "      <td>90036</td>\n",
       "      <td>West</td>\n",
       "      <td>OFF-LA-10000240</td>\n",
       "      <td>Office Supplies</td>\n",
       "      <td>Labels</td>\n",
       "      <td>Self-Adhesive Address Labels for Typewriters b...</td>\n",
       "      <td>14.6200</td>\n",
       "      <td>2</td>\n",
       "      <td>0.00</td>\n",
       "      <td>6.8714</td>\n",
       "    </tr>\n",
       "    <tr>\n",
       "      <th>3</th>\n",
       "      <td>4</td>\n",
       "      <td>US-2015-108966</td>\n",
       "      <td>11-10-2015</td>\n",
       "      <td>18-10-2015</td>\n",
       "      <td>Standard Class</td>\n",
       "      <td>SO-20335</td>\n",
       "      <td>Sean O'Donnell</td>\n",
       "      <td>Consumer</td>\n",
       "      <td>United States</td>\n",
       "      <td>Fort Lauderdale</td>\n",
       "      <td>...</td>\n",
       "      <td>33311</td>\n",
       "      <td>South</td>\n",
       "      <td>FUR-TA-10000577</td>\n",
       "      <td>Furniture</td>\n",
       "      <td>Tables</td>\n",
       "      <td>Bretford CR4500 Series Slim Rectangular Table</td>\n",
       "      <td>957.5775</td>\n",
       "      <td>5</td>\n",
       "      <td>0.45</td>\n",
       "      <td>-383.0310</td>\n",
       "    </tr>\n",
       "    <tr>\n",
       "      <th>4</th>\n",
       "      <td>5</td>\n",
       "      <td>US-2015-108966</td>\n",
       "      <td>11-10-2015</td>\n",
       "      <td>18-10-2015</td>\n",
       "      <td>Standard Class</td>\n",
       "      <td>SO-20335</td>\n",
       "      <td>Sean O'Donnell</td>\n",
       "      <td>Consumer</td>\n",
       "      <td>United States</td>\n",
       "      <td>Fort Lauderdale</td>\n",
       "      <td>...</td>\n",
       "      <td>33311</td>\n",
       "      <td>South</td>\n",
       "      <td>OFF-ST-10000760</td>\n",
       "      <td>Office Supplies</td>\n",
       "      <td>Storage</td>\n",
       "      <td>Eldon Fold 'N Roll Cart System</td>\n",
       "      <td>22.3680</td>\n",
       "      <td>2</td>\n",
       "      <td>0.20</td>\n",
       "      <td>2.5164</td>\n",
       "    </tr>\n",
       "  </tbody>\n",
       "</table>\n",
       "<p>5 rows × 21 columns</p>\n",
       "</div>"
      ],
      "text/plain": [
       "   Row ID        Order ID  Order Date   Ship Date       Ship Mode Customer ID  \\\n",
       "0       1  CA-2016-152156  08-11-2016  11-11-2016    Second Class    CG-12520   \n",
       "1       2  CA-2016-152156  08-11-2016  11-11-2016    Second Class    CG-12520   \n",
       "2       3  CA-2016-138688  12-06-2016  16-06-2016    Second Class    DV-13045   \n",
       "3       4  US-2015-108966  11-10-2015  18-10-2015  Standard Class    SO-20335   \n",
       "4       5  US-2015-108966  11-10-2015  18-10-2015  Standard Class    SO-20335   \n",
       "\n",
       "     Customer Name    Segment        Country             City  ...  \\\n",
       "0      Claire Gute   Consumer  United States        Henderson  ...   \n",
       "1      Claire Gute   Consumer  United States        Henderson  ...   \n",
       "2  Darrin Van Huff  Corporate  United States      Los Angeles  ...   \n",
       "3   Sean O'Donnell   Consumer  United States  Fort Lauderdale  ...   \n",
       "4   Sean O'Donnell   Consumer  United States  Fort Lauderdale  ...   \n",
       "\n",
       "  Postal Code  Region       Product ID         Category Sub-Category  \\\n",
       "0       42420   South  FUR-BO-10001798        Furniture    Bookcases   \n",
       "1       42420   South  FUR-CH-10000454        Furniture       Chairs   \n",
       "2       90036    West  OFF-LA-10000240  Office Supplies       Labels   \n",
       "3       33311   South  FUR-TA-10000577        Furniture       Tables   \n",
       "4       33311   South  OFF-ST-10000760  Office Supplies      Storage   \n",
       "\n",
       "                                        Product Name     Sales  Quantity  \\\n",
       "0                  Bush Somerset Collection Bookcase  261.9600         2   \n",
       "1  Hon Deluxe Fabric Upholstered Stacking Chairs,...  731.9400         3   \n",
       "2  Self-Adhesive Address Labels for Typewriters b...   14.6200         2   \n",
       "3      Bretford CR4500 Series Slim Rectangular Table  957.5775         5   \n",
       "4                     Eldon Fold 'N Roll Cart System   22.3680         2   \n",
       "\n",
       "   Discount    Profit  \n",
       "0      0.00   41.9136  \n",
       "1      0.00  219.5820  \n",
       "2      0.00    6.8714  \n",
       "3      0.45 -383.0310  \n",
       "4      0.20    2.5164  \n",
       "\n",
       "[5 rows x 21 columns]"
      ]
     },
     "execution_count": 3,
     "metadata": {},
     "output_type": "execute_result"
    }
   ],
   "source": [
    "df.head()"
   ]
  },
  {
   "cell_type": "code",
   "execution_count": 5,
   "id": "67da2dba-5fbd-4a28-9b27-b0643e907ae0",
   "metadata": {},
   "outputs": [
    {
     "data": {
      "text/plain": [
       "Index(['Row ID', 'Order ID', 'Order Date', 'Ship Date', 'Ship Mode',\n",
       "       'Customer ID', 'Customer Name', 'Segment', 'Country', 'City', 'State',\n",
       "       'Postal Code', 'Region', 'Product ID', 'Category', 'Sub-Category',\n",
       "       'Product Name', 'Sales', 'Quantity', 'Discount', 'Profit'],\n",
       "      dtype='object')"
      ]
     },
     "execution_count": 5,
     "metadata": {},
     "output_type": "execute_result"
    }
   ],
   "source": [
    "df.columns"
   ]
  },
  {
   "cell_type": "code",
   "execution_count": 6,
   "id": "982ee1c6",
   "metadata": {},
   "outputs": [],
   "source": [
    "df.drop(columns=[\"Row ID\", \"Country\", \"Customer Name\"], inplace=True)"
   ]
  },
  {
   "cell_type": "code",
   "execution_count": 7,
   "id": "d990b343",
   "metadata": {},
   "outputs": [
    {
     "data": {
      "text/plain": [
       "(9993, 18)"
      ]
     },
     "execution_count": 7,
     "metadata": {},
     "output_type": "execute_result"
    }
   ],
   "source": [
    "df=df.drop_duplicates(subset=None, keep='first', inplace=False)\n",
    "df.shape"
   ]
  },
  {
   "cell_type": "code",
   "execution_count": 8,
   "id": "b0580279",
   "metadata": {},
   "outputs": [
    {
     "data": {
      "text/plain": [
       "0"
      ]
     },
     "execution_count": 8,
     "metadata": {},
     "output_type": "execute_result"
    }
   ],
   "source": [
    "df.duplicated().sum()"
   ]
  },
  {
   "cell_type": "code",
   "execution_count": 9,
   "id": "2d70c2ed",
   "metadata": {},
   "outputs": [],
   "source": [
    "df['Order Date'] = pd.to_datetime(df['Order Date'], format='%d-%m-%Y')\n",
    "df['Ship Date'] = pd.to_datetime(df['Ship Date'], format='%d-%m-%Y')"
   ]
  },
  {
   "cell_type": "code",
   "execution_count": 10,
   "id": "9d2d74f3-ed0d-4f2d-9304-58dbeb7a609a",
   "metadata": {
    "scrolled": true
   },
   "outputs": [],
   "source": [
    "df['Order year'] = df['Order Date'].dt.year\n",
    "df['Order month'] = df['Order Date'].dt.month\n",
    "df['Order day'] = df['Order Date'].dt.day"
   ]
  },
  {
   "cell_type": "code",
   "execution_count": null,
   "id": "38389791-e30d-4470-af29-2d81efdc0943",
   "metadata": {},
   "outputs": [],
   "source": []
  },
  {
   "cell_type": "code",
   "execution_count": 11,
   "id": "f941c1a8",
   "metadata": {},
   "outputs": [],
   "source": [
    "df['delivery_time'] = df['Ship Date'] - df['Order Date']"
   ]
  },
  {
   "cell_type": "code",
   "execution_count": 12,
   "id": "2b3e496e",
   "metadata": {},
   "outputs": [],
   "source": [
    "df['delivery_time']=df['delivery_time'].astype(str).str.replace('days','').astype(int).abs()\n",
    "# df['delivery_time']=df['delivery_time'].str.replace('days','').astype(int).abs()"
   ]
  },
  {
   "cell_type": "code",
   "execution_count": 13,
   "id": "05d3541c-ece2-4478-b814-cb12fc4312cb",
   "metadata": {},
   "outputs": [
    {
     "data": {
      "text/plain": [
       "Timestamp('2018-01-05 00:00:00')"
      ]
     },
     "execution_count": 13,
     "metadata": {},
     "output_type": "execute_result"
    }
   ],
   "source": [
    "# Last ordered date\n",
    "df['Ship Date'].max()"
   ]
  },
  {
   "cell_type": "code",
   "execution_count": 14,
   "id": "623d577a-24ca-4f8b-a827-5de151256562",
   "metadata": {},
   "outputs": [],
   "source": [
    "df['last_order'] = df['Ship Date'].max() - df['Ship Date']"
   ]
  },
  {
   "cell_type": "code",
   "execution_count": 15,
   "id": "cf87eb4c-1747-4b15-9b51-2dc36b9bd785",
   "metadata": {
    "scrolled": true
   },
   "outputs": [],
   "source": [
    "df['last_order']=df['last_order'].astype(str).str.replace('days','').astype(int).abs()"
   ]
  },
  {
   "cell_type": "code",
   "execution_count": 16,
   "id": "e2e6c9dd-f235-42a5-a306-c7ac1910af9d",
   "metadata": {
    "scrolled": true
   },
   "outputs": [
    {
     "data": {
      "text/plain": [
       "last_order\n",
       "751     35\n",
       "101     34\n",
       "30      32\n",
       "45      32\n",
       "121     30\n",
       "        ..\n",
       "1045     1\n",
       "1050     1\n",
       "360      1\n",
       "890      1\n",
       "1403     1\n",
       "Name: count, Length: 1334, dtype: int64"
      ]
     },
     "execution_count": 16,
     "metadata": {},
     "output_type": "execute_result"
    }
   ],
   "source": [
    "df['last_order'].value_counts()"
   ]
  },
  {
   "cell_type": "code",
   "execution_count": 30,
   "id": "e53a7803-8784-4602-b781-176cfdc1af95",
   "metadata": {},
   "outputs": [
    {
     "name": "stdout",
     "output_type": "stream",
     "text": [
      "(392, 23)\n",
      "(875, 23)\n",
      "(875, 23)\n",
      "(3375, 23)\n",
      "(3014, 23)\n",
      "(2288, 23)\n"
     ]
    }
   ],
   "source": [
    "print(df[df['last_order'] < 30].shape)\n",
    "\n",
    "print(df[(df['last_order'] > 30) & (df['last_order'] < 100)].shape)\n",
    "\n",
    "print(df[(df['last_order'] > 30) & (df['last_order'] < 100)].shape)\n",
    "\n",
    "print(df[(df['last_order'] > 100) & (df['last_order'] < 500)].shape)\n",
    "\n",
    "print(df[(df['last_order'] > 500) & (df['last_order'] < 1000)].shape)\n",
    "\n",
    "print(df[df['last_order'] > 1000].shape)"
   ]
  },
  {
   "cell_type": "code",
   "execution_count": 20,
   "id": "6e0644fc-cbc6-48db-98af-d4f0b43dc1bd",
   "metadata": {
    "collapsed": true,
    "jupyter": {
     "outputs_hidden": true
    },
    "scrolled": true
   },
   "outputs": [
    {
     "ename": "AttributeError",
     "evalue": "'DataFrame' object has no attribute 'repeat_order'",
     "output_type": "error",
     "traceback": [
      "\u001b[1;31m---------------------------------------------------------------------------\u001b[0m",
      "\u001b[1;31mAttributeError\u001b[0m                            Traceback (most recent call last)",
      "\u001b[1;32m~\\AppData\\Local\\Temp\\ipykernel_9116\\1051454071.py\u001b[0m in \u001b[0;36m?\u001b[1;34m()\u001b[0m\n\u001b[1;32m----> 1\u001b[1;33m \u001b[0mdf\u001b[0m\u001b[1;33m.\u001b[0m\u001b[0mrepeat_order\u001b[0m\u001b[1;33m.\u001b[0m\u001b[0mvalue_counts\u001b[0m\u001b[1;33m(\u001b[0m\u001b[1;33m)\u001b[0m\u001b[1;33m.\u001b[0m\u001b[0msample\u001b[0m\u001b[1;33m(\u001b[0m\u001b[1;36m50\u001b[0m\u001b[1;33m)\u001b[0m\u001b[1;33m\u001b[0m\u001b[1;33m\u001b[0m\u001b[0m\n\u001b[0m",
      "\u001b[1;32m~\\anaconda3\\envs\\code\\Lib\\site-packages\\pandas\\core\\generic.py\u001b[0m in \u001b[0;36m?\u001b[1;34m(self, name)\u001b[0m\n\u001b[0;32m   6295\u001b[0m             \u001b[1;32mand\u001b[0m \u001b[0mname\u001b[0m \u001b[1;32mnot\u001b[0m \u001b[1;32min\u001b[0m \u001b[0mself\u001b[0m\u001b[1;33m.\u001b[0m\u001b[0m_accessors\u001b[0m\u001b[1;33m\u001b[0m\u001b[1;33m\u001b[0m\u001b[0m\n\u001b[0;32m   6296\u001b[0m             \u001b[1;32mand\u001b[0m \u001b[0mself\u001b[0m\u001b[1;33m.\u001b[0m\u001b[0m_info_axis\u001b[0m\u001b[1;33m.\u001b[0m\u001b[0m_can_hold_identifiers_and_holds_name\u001b[0m\u001b[1;33m(\u001b[0m\u001b[0mname\u001b[0m\u001b[1;33m)\u001b[0m\u001b[1;33m\u001b[0m\u001b[1;33m\u001b[0m\u001b[0m\n\u001b[0;32m   6297\u001b[0m         ):\n\u001b[0;32m   6298\u001b[0m             \u001b[1;32mreturn\u001b[0m \u001b[0mself\u001b[0m\u001b[1;33m[\u001b[0m\u001b[0mname\u001b[0m\u001b[1;33m]\u001b[0m\u001b[1;33m\u001b[0m\u001b[1;33m\u001b[0m\u001b[0m\n\u001b[1;32m-> 6299\u001b[1;33m         \u001b[1;32mreturn\u001b[0m \u001b[0mobject\u001b[0m\u001b[1;33m.\u001b[0m\u001b[0m__getattribute__\u001b[0m\u001b[1;33m(\u001b[0m\u001b[0mself\u001b[0m\u001b[1;33m,\u001b[0m \u001b[0mname\u001b[0m\u001b[1;33m)\u001b[0m\u001b[1;33m\u001b[0m\u001b[1;33m\u001b[0m\u001b[0m\n\u001b[0m",
      "\u001b[1;31mAttributeError\u001b[0m: 'DataFrame' object has no attribute 'repeat_order'"
     ]
    }
   ],
   "source": [
    "df.repeat_order.value_counts().sample(50)"
   ]
  },
  {
   "cell_type": "code",
   "execution_count": null,
   "id": "2283683d-f997-4fb4-8959-e382c653f553",
   "metadata": {},
   "outputs": [],
   "source": [
    "df.info()"
   ]
  },
  {
   "cell_type": "code",
   "execution_count": 101,
   "id": "dc24e77c-42d8-49eb-989c-99466f8a9d8d",
   "metadata": {
    "collapsed": true,
    "jupyter": {
     "outputs_hidden": true
    },
    "scrolled": true
   },
   "outputs": [
    {
     "data": {
      "text/plain": [
       "2953    6\n",
       "9098    3\n",
       "266     1\n",
       "8779    1\n",
       "997     4\n",
       "3094    4\n",
       "9499    3\n",
       "5373    3\n",
       "47      2\n",
       "5857    4\n",
       "5548    2\n",
       "819     5\n",
       "4157    2\n",
       "254     4\n",
       "8104    4\n",
       "7562    1\n",
       "9028    2\n",
       "8404    5\n",
       "8713    2\n",
       "2572    1\n",
       "8789    2\n",
       "357     4\n",
       "8245    1\n",
       "8153    3\n",
       "324     2\n",
       "9184    8\n",
       "1872    3\n",
       "6875    2\n",
       "7266    2\n",
       "3098    2\n",
       "7552    4\n",
       "4870    2\n",
       "202     2\n",
       "5546    2\n",
       "370     2\n",
       "7815    2\n",
       "8272    1\n",
       "1245    3\n",
       "6732    2\n",
       "563     2\n",
       "1631    5\n",
       "429     4\n",
       "8234    3\n",
       "6804    1\n",
       "1278    2\n",
       "8661    3\n",
       "3538    4\n",
       "1218    8\n",
       "4348    2\n",
       "278     4\n",
       "Name: Order ID, dtype: int64"
      ]
     },
     "execution_count": 101,
     "metadata": {},
     "output_type": "execute_result"
    }
   ],
   "source": [
    "df['Order ID'].map(df['Order ID'].value_counts()).sample(50)"
   ]
  },
  {
   "cell_type": "markdown",
   "id": "64f9ad59-c531-42f9-a43b-4491296b4c01",
   "metadata": {},
   "source": [
    "- Creating two columns\n",
    "  - Which will have a number respected to its repeated of order"
   ]
  },
  {
   "cell_type": "code",
   "execution_count": 24,
   "id": "ed3a2ad4-709c-4d79-a985-4a39410160fe",
   "metadata": {
    "scrolled": true
   },
   "outputs": [
    {
     "data": {
      "text/plain": [
       "0       1876.0\n",
       "1       1795.0\n",
       "2       2102.0\n",
       "3       2232.0\n",
       "4       1988.0\n",
       "         ...  \n",
       "9989       NaN\n",
       "9990       NaN\n",
       "9991       NaN\n",
       "9992       NaN\n",
       "9993       NaN\n",
       "Name: last_order, Length: 9993, dtype: float64"
      ]
     },
     "execution_count": 24,
     "metadata": {},
     "output_type": "execute_result"
    }
   ],
   "source": [
    "df['last_order']"
   ]
  },
  {
   "cell_type": "code",
   "execution_count": null,
   "id": "2cd0a0eb-b9e9-45ae-9109-855df4f2f384",
   "metadata": {},
   "outputs": [],
   "source": [
    "# df['last_order'] = df.last_order.apply(\n",
    "#     lambda x: 0 if x < 150 else 1 if 150 < x < 400 else 2 if 400 < x < 700 else 3 if 700 < x < 1100 else 4\n",
    "# )\n",
    "\n",
    "# df['repeat_order'] = df.groupby('Order ID')['Order ID'].transform('count').apply(\n",
    "#     lambda x: 0 if x < 2 else 1 if x < 4 else 2\n",
    "# )\n",
    "\n",
    "# df['repeat_customer'] = df.groupby('Customer ID')['Customer ID'].transform('count').apply(\n",
    "#     lambda x: 0 if x < 10 else 1 if 10 < x < 15 else 2 if 15 < x < 20 else 3 if x > 20 else 4\n",
    "# )"
   ]
  },
  {
   "cell_type": "code",
   "execution_count": 103,
   "id": "48a9a5ac-83e1-4f92-9d8b-d15217560be9",
   "metadata": {},
   "outputs": [],
   "source": [
    "df['last_order'] = df['last_order'].map(df['last_order'].value_counts())\n",
    "df['repeat_order'] = df['Order ID'].map(df['Order ID'].value_counts())\n",
    "df['repeat_customer'] = df['Customer ID'].map(df['Customer ID'].value_counts())\n"
   ]
  },
  {
   "cell_type": "code",
   "execution_count": 39,
   "id": "8df1529f-5398-4b83-a57a-9814b643f2fe",
   "metadata": {
    "scrolled": true
   },
   "outputs": [
    {
     "data": {
      "text/plain": [
       "last_order\n",
       "3    2232\n",
       "2    2102\n",
       "4    1988\n",
       "0    1876\n",
       "1    1795\n",
       "Name: count, dtype: int64"
      ]
     },
     "execution_count": 39,
     "metadata": {},
     "output_type": "execute_result"
    }
   ],
   "source": [
    "df.last_order.value_counts()"
   ]
  },
  {
   "cell_type": "code",
   "execution_count": 40,
   "id": "c3397de4-7116-417a-82b2-8f4c7e9a259e",
   "metadata": {
    "scrolled": true
   },
   "outputs": [
    {
     "data": {
      "text/plain": [
       "repeat_order\n",
       "1    4252\n",
       "2    3203\n",
       "0    2538\n",
       "Name: count, dtype: int64"
      ]
     },
     "execution_count": 40,
     "metadata": {},
     "output_type": "execute_result"
    }
   ],
   "source": [
    "df.repeat_order.value_counts()"
   ]
  },
  {
   "cell_type": "code",
   "execution_count": 41,
   "id": "b13b4f99-cd82-49f7-8721-205f109df1eb",
   "metadata": {
    "scrolled": true
   },
   "outputs": [
    {
     "data": {
      "text/plain": [
       "repeat_customer\n",
       "1    2565\n",
       "3    2143\n",
       "2    1816\n",
       "4    1740\n",
       "0    1729\n",
       "Name: count, dtype: int64"
      ]
     },
     "execution_count": 41,
     "metadata": {},
     "output_type": "execute_result"
    }
   ],
   "source": [
    "df.repeat_customer.value_counts()"
   ]
  },
  {
   "cell_type": "code",
   "execution_count": null,
   "id": "7ca64ade-a60b-42f5-8eba-4612cbc8ed19",
   "metadata": {},
   "outputs": [],
   "source": []
  },
  {
   "cell_type": "code",
   "execution_count": 20,
   "id": "75a04b17-15fd-4ffb-bd5f-e3f0a9874ca0",
   "metadata": {},
   "outputs": [],
   "source": [
    "df.drop(columns=['Order Date','Ship Date'], inplace=True)"
   ]
  },
  {
   "cell_type": "markdown",
   "id": "e3d31cac",
   "metadata": {},
   "source": [
    "# Model Building"
   ]
  },
  {
   "cell_type": "code",
   "execution_count": 22,
   "id": "c0bb99f5-270b-4dd9-aefa-2a7087edfa2c",
   "metadata": {
    "collapsed": true,
    "jupyter": {
     "outputs_hidden": true
    },
    "scrolled": true
   },
   "outputs": [
    {
     "data": {
      "text/plain": [
       "Customer ID\n",
       "WB-21850    37\n",
       "JL-15835    34\n",
       "MA-17560    34\n",
       "PP-18955    34\n",
       "CK-12205    32\n",
       "            ..\n",
       "LD-16855     1\n",
       "AO-10810     1\n",
       "CJ-11875     1\n",
       "RE-19405     1\n",
       "JR-15700     1\n",
       "Name: count, Length: 793, dtype: int64"
      ]
     },
     "execution_count": 22,
     "metadata": {},
     "output_type": "execute_result"
    }
   ],
   "source": [
    "df['Customer ID'].value_counts()"
   ]
  },
  {
   "cell_type": "code",
   "execution_count": null,
   "id": "0c012172-d8a4-48ba-a620-a47ef26067a7",
   "metadata": {
    "collapsed": true,
    "jupyter": {
     "outputs_hidden": true
    },
    "scrolled": true
   },
   "outputs": [],
   "source": [
    "# df[df['Order ID']=='CA-2017-100111']\n",
    "df[df['Customer ID']=='SV-20365']\n"
   ]
  },
  {
   "cell_type": "code",
   "execution_count": 24,
   "id": "f59e2f92-c0aa-4c8d-965f-e900010f69b8",
   "metadata": {},
   "outputs": [],
   "source": [
    "# df['Order ID'].apply(lambda x: 1 if df['Order ID'].value_counts()[0] > 1 else 0)\n"
   ]
  },
  {
   "cell_type": "code",
   "execution_count": 25,
   "id": "a61e5fb1-a0de-47ef-8ac4-d97508d0a9b6",
   "metadata": {},
   "outputs": [],
   "source": [
    "# df['Order ID'] = df.groupby('Order ID')['Order ID'].transform('count').apply(lambda x: 1 if x > 1 elif x > 1 else 0)"
   ]
  },
  {
   "cell_type": "code",
   "execution_count": 28,
   "id": "64f3e2db",
   "metadata": {},
   "outputs": [],
   "source": [
    "df['cost price'] = (df['Sales'] - df['Profit'])/df['Quantity']\n",
    "df['Price(before discount)'] = df['cost price'] + (df['cost price'] * df['Discount'])"
   ]
  },
  {
   "cell_type": "code",
   "execution_count": 29,
   "id": "37382c6f-00a1-4c9b-bf0f-be748425a263",
   "metadata": {},
   "outputs": [
    {
     "data": {
      "text/html": [
       "<div>\n",
       "<style scoped>\n",
       "    .dataframe tbody tr th:only-of-type {\n",
       "        vertical-align: middle;\n",
       "    }\n",
       "\n",
       "    .dataframe tbody tr th {\n",
       "        vertical-align: top;\n",
       "    }\n",
       "\n",
       "    .dataframe thead th {\n",
       "        text-align: right;\n",
       "    }\n",
       "</style>\n",
       "<table border=\"1\" class=\"dataframe\">\n",
       "  <thead>\n",
       "    <tr style=\"text-align: right;\">\n",
       "      <th></th>\n",
       "      <th>Discount</th>\n",
       "      <th>Profit</th>\n",
       "      <th>delivery_time</th>\n",
       "      <th>cost price</th>\n",
       "      <th>Price(before discount)</th>\n",
       "      <th>repeat_order</th>\n",
       "      <th>repeat_customer</th>\n",
       "    </tr>\n",
       "  </thead>\n",
       "  <tbody>\n",
       "    <tr>\n",
       "      <th>Discount</th>\n",
       "      <td>1.000000</td>\n",
       "      <td>-0.219481</td>\n",
       "      <td>0.000407</td>\n",
       "      <td>0.068157</td>\n",
       "      <td>0.126338</td>\n",
       "      <td>-0.003163</td>\n",
       "      <td>-0.029931</td>\n",
       "    </tr>\n",
       "    <tr>\n",
       "      <th>Profit</th>\n",
       "      <td>-0.219481</td>\n",
       "      <td>1.000000</td>\n",
       "      <td>-0.004649</td>\n",
       "      <td>0.129121</td>\n",
       "      <td>-0.020987</td>\n",
       "      <td>0.009290</td>\n",
       "      <td>0.001868</td>\n",
       "    </tr>\n",
       "    <tr>\n",
       "      <th>delivery_time</th>\n",
       "      <td>0.000407</td>\n",
       "      <td>-0.004649</td>\n",
       "      <td>1.000000</td>\n",
       "      <td>-0.013736</td>\n",
       "      <td>-0.011906</td>\n",
       "      <td>-0.006484</td>\n",
       "      <td>0.035442</td>\n",
       "    </tr>\n",
       "    <tr>\n",
       "      <th>cost price</th>\n",
       "      <td>0.068157</td>\n",
       "      <td>0.129121</td>\n",
       "      <td>-0.013736</td>\n",
       "      <td>1.000000</td>\n",
       "      <td>0.980738</td>\n",
       "      <td>0.013636</td>\n",
       "      <td>0.006233</td>\n",
       "    </tr>\n",
       "    <tr>\n",
       "      <th>Price(before discount)</th>\n",
       "      <td>0.126338</td>\n",
       "      <td>-0.020987</td>\n",
       "      <td>-0.011906</td>\n",
       "      <td>0.980738</td>\n",
       "      <td>1.000000</td>\n",
       "      <td>0.012364</td>\n",
       "      <td>0.003490</td>\n",
       "    </tr>\n",
       "    <tr>\n",
       "      <th>repeat_order</th>\n",
       "      <td>-0.003163</td>\n",
       "      <td>0.009290</td>\n",
       "      <td>-0.006484</td>\n",
       "      <td>0.013636</td>\n",
       "      <td>0.012364</td>\n",
       "      <td>1.000000</td>\n",
       "      <td>0.136671</td>\n",
       "    </tr>\n",
       "    <tr>\n",
       "      <th>repeat_customer</th>\n",
       "      <td>-0.029931</td>\n",
       "      <td>0.001868</td>\n",
       "      <td>0.035442</td>\n",
       "      <td>0.006233</td>\n",
       "      <td>0.003490</td>\n",
       "      <td>0.136671</td>\n",
       "      <td>1.000000</td>\n",
       "    </tr>\n",
       "  </tbody>\n",
       "</table>\n",
       "</div>"
      ],
      "text/plain": [
       "                        Discount    Profit  delivery_time  cost price  \\\n",
       "Discount                1.000000 -0.219481       0.000407    0.068157   \n",
       "Profit                 -0.219481  1.000000      -0.004649    0.129121   \n",
       "delivery_time           0.000407 -0.004649       1.000000   -0.013736   \n",
       "cost price              0.068157  0.129121      -0.013736    1.000000   \n",
       "Price(before discount)  0.126338 -0.020987      -0.011906    0.980738   \n",
       "repeat_order           -0.003163  0.009290      -0.006484    0.013636   \n",
       "repeat_customer        -0.029931  0.001868       0.035442    0.006233   \n",
       "\n",
       "                        Price(before discount)  repeat_order  repeat_customer  \n",
       "Discount                              0.126338     -0.003163        -0.029931  \n",
       "Profit                               -0.020987      0.009290         0.001868  \n",
       "delivery_time                        -0.011906     -0.006484         0.035442  \n",
       "cost price                            0.980738      0.013636         0.006233  \n",
       "Price(before discount)                1.000000      0.012364         0.003490  \n",
       "repeat_order                          0.012364      1.000000         0.136671  \n",
       "repeat_customer                       0.003490      0.136671         1.000000  "
      ]
     },
     "execution_count": 29,
     "metadata": {},
     "output_type": "execute_result"
    }
   ],
   "source": [
    "df[['Discount',\t'Profit','delivery_time','cost price','Price(before discount)','repeat_order','repeat_customer']].corr()"
   ]
  },
  {
   "cell_type": "markdown",
   "id": "92c6f1a5",
   "metadata": {},
   "source": [
    "Here we let the model to decide how much will be the discount \n",
    "- input will be Product's actual cost and a  price varry to the location or time etc.\n",
    "- Only one output and that is Discount"
   ]
  },
  {
   "cell_type": "code",
   "execution_count": 30,
   "id": "1fb05678",
   "metadata": {},
   "outputs": [],
   "source": [
    "def sale_price(df, product_name):\n",
    "    try:\n",
    "        new = df.loc[df['Product Name']==product_name]\n",
    "        temp=new.iloc[0]\n",
    "        return (temp['Price(before discount)'] - (temp['Price(before discount)'] * temp['Discount'])).round(2)\n",
    "    except IndexError:\n",
    "        print(\"Error: Product not found\")"
   ]
  },
  {
   "cell_type": "markdown",
   "id": "9f70cd99",
   "metadata": {},
   "source": [
    "##### so we don't need 'Sale' column any more"
   ]
  },
  {
   "cell_type": "code",
   "execution_count": 31,
   "id": "ef235ead",
   "metadata": {},
   "outputs": [],
   "source": [
    "df.drop('Sales', axis=1, inplace=True)"
   ]
  },
  {
   "cell_type": "markdown",
   "id": "b207c4a6",
   "metadata": {},
   "source": [
    "###### keep copy before transformation"
   ]
  },
  {
   "cell_type": "code",
   "execution_count": 33,
   "id": "b589023f-9f6a-47ab-8e85-e143b541c667",
   "metadata": {
    "scrolled": true
   },
   "outputs": [
    {
     "data": {
      "text/plain": [
       "array(['Consumer', 'Corporate', 'Home Office'], dtype=object)"
      ]
     },
     "execution_count": 33,
     "metadata": {},
     "output_type": "execute_result"
    }
   ],
   "source": [
    "df.Segment.unique()"
   ]
  },
  {
   "cell_type": "code",
   "execution_count": 34,
   "id": "06ee15ae",
   "metadata": {},
   "outputs": [
    {
     "name": "stdout",
     "output_type": "stream",
     "text": [
      "(1850,)\n",
      "(631,)\n"
     ]
    }
   ],
   "source": [
    "print(df['Product Name'].unique().shape)\n",
    "print(df['Postal Code'].unique().shape)"
   ]
  },
  {
   "cell_type": "markdown",
   "id": "d9764679",
   "metadata": {
    "scrolled": true
   },
   "source": [
    "- some product have same product 'ID', so we keep 'Name' column"
   ]
  },
  {
   "cell_type": "code",
   "execution_count": 35,
   "id": "a41834fe",
   "metadata": {},
   "outputs": [],
   "source": [
    "# df['Product Name'] = df['Product Name'].apply(lambda x: x.replace(' ', ''))"
   ]
  },
  {
   "cell_type": "code",
   "execution_count": 36,
   "id": "0075fa9b",
   "metadata": {},
   "outputs": [],
   "source": [
    "# df['Product Name'] = df['Product Name'].apply(lambda x: x.lower())"
   ]
  },
  {
   "cell_type": "code",
   "execution_count": 37,
   "id": "2626de2d",
   "metadata": {},
   "outputs": [],
   "source": [
    "df['Order ID'] = df['Order ID'].apply(lambda x: x.replace('-', ''))\n",
    "df['Customer ID'] = df['Customer ID'].apply(lambda x: x.replace('-', ''))"
   ]
  },
  {
   "cell_type": "markdown",
   "id": "3a435674",
   "metadata": {},
   "source": [
    "### Selecting columns for our model"
   ]
  },
  {
   "cell_type": "code",
   "execution_count": null,
   "id": "42957a04-fc40-45a9-a997-9d15a8409980",
   "metadata": {},
   "outputs": [],
   "source": []
  },
  {
   "cell_type": "code",
   "execution_count": 3,
   "id": "032107e5-1634-45e4-9603-ce89d0bb3d33",
   "metadata": {},
   "outputs": [],
   "source": [
    "def transform(df):\n",
    "    df = df.drop(columns=[\"Row ID\", \"Country\", \"Customer Name\"])\n",
    "    df=df.drop_duplicates(keep='first')\n",
    "    \n",
    "    \n",
    "    df['Order Date'] = pd.to_datetime(df['Order Date'], format='%d-%m-%Y')\n",
    "    df['Ship Date'] = pd.to_datetime(df['Ship Date'], format='%d-%m-%Y')\n",
    "    \n",
    "    df['delivery_time'] = df['Ship Date'] - df['Order Date']\n",
    "    \n",
    "    df['delivery_time']=df['delivery_time'].astype(str).str.replace('days','').astype(int).abs()\n",
    "    \n",
    "    df['last_order'] = df['Ship Date'].max() - df['Ship Date']\n",
    "    df['last_order']=df['last_order'].astype(str).str.replace('days','').astype(int).abs()\n",
    "    df['last_order'] = df['last_order'].map(df['last_order'].value_counts())\n",
    "\n",
    "    df['Order year'] = df['Order Date'].dt.year\n",
    "    df['Order month'] = df['Order Date'].dt.month\n",
    "    df['Order day'] = df['Order Date'].dt.day\n",
    "    \n",
    "    df = df.drop(columns=['Order Date','Ship Date'])\n",
    "    \n",
    "    df['last_order'] = df['last_order'].map(df['last_order'].value_counts())\n",
    "    df['repeat_order'] = df['Order ID'].map(df['Order ID'].value_counts())\n",
    "    df['repeat_customer'] = df['Customer ID'].map(df['Customer ID'].value_counts())\n",
    "\n",
    "    \n",
    "    df['cost price'] = (df['Sales'] - df['Profit'])/df['Quantity']\n",
    "    df['Price(before discount)'] = df['cost price'] + (df['cost price'] * df['Discount'])\n",
    "    \n",
    "    return df"
   ]
  },
  {
   "cell_type": "code",
   "execution_count": 45,
   "id": "a196e7f7-4396-4202-b32b-9794a117cda2",
   "metadata": {},
   "outputs": [],
   "source": [
    "df = pd.read_csv('../data/raw/Sample_Superstore.csv')\n",
    "df = transform(df)"
   ]
  },
  {
   "cell_type": "code",
   "execution_count": 46,
   "id": "7a23bc14-eebe-48be-839f-c5ca7f909dca",
   "metadata": {},
   "outputs": [],
   "source": [
    "df = df.drop(columns=['Sales', 'Order ID', 'Customer ID', 'Product ID', 'Profit', 'Price(before discount)', 'Order year', 'Order month', 'Order day', 'delivery_time', 'Region'])\n"
   ]
  },
  {
   "cell_type": "code",
   "execution_count": 7,
   "id": "601296be",
   "metadata": {},
   "outputs": [],
   "source": [
    "from sklearn.preprocessing import OneHotEncoder, OrdinalEncoder\n",
    "from sklearn.compose import ColumnTransformer\n",
    "from sklearn.pipeline import Pipeline,make_pipeline\n",
    "from sklearn.compose import make_column_transformer\n",
    "from sklearn.preprocessing import MinMaxScaler, StandardScaler"
   ]
  },
  {
   "cell_type": "code",
   "execution_count": 8,
   "id": "50b89203",
   "metadata": {},
   "outputs": [],
   "source": [
    "from sklearn.metrics import r2_score,mean_absolute_error\n",
    "\n",
    "from sklearn.ensemble import RandomForestRegressor,GradientBoostingRegressor\n",
    "from xgboost import XGBRegressor"
   ]
  },
  {
   "cell_type": "code",
   "execution_count": 9,
   "id": "4a052be0",
   "metadata": {},
   "outputs": [],
   "source": [
    "from sklearn.model_selection import train_test_split"
   ]
  },
  {
   "cell_type": "code",
   "execution_count": 47,
   "id": "d86fbfb5",
   "metadata": {},
   "outputs": [],
   "source": [
    "X=df.drop(columns=['Discount'])\n",
    "y=df[['Discount']]"
   ]
  },
  {
   "cell_type": "code",
   "execution_count": 48,
   "id": "12e96581",
   "metadata": {},
   "outputs": [
    {
     "data": {
      "text/plain": [
       "Index(['Ship Mode', 'Segment', 'City', 'State', 'Postal Code', 'Category',\n",
       "       'Sub-Category', 'Product Name', 'Quantity', 'last_order',\n",
       "       'repeat_order', 'repeat_customer', 'cost price'],\n",
       "      dtype='object')"
      ]
     },
     "execution_count": 48,
     "metadata": {},
     "output_type": "execute_result"
    }
   ],
   "source": [
    "X.columns"
   ]
  },
  {
   "cell_type": "code",
   "execution_count": 11,
   "id": "e918e985",
   "metadata": {},
   "outputs": [],
   "source": [
    "from sklearn.model_selection import train_test_split\n",
    "\n",
    "X_train, X_test, y_train, y_test = train_test_split(X, y, test_size=0.3, random_state=42)"
   ]
  },
  {
   "cell_type": "code",
   "execution_count": 12,
   "id": "84f77ce8",
   "metadata": {},
   "outputs": [],
   "source": [
    "column_transformer = make_column_transformer(\n",
    "    (OneHotEncoder(drop='first', handle_unknown='ignore'), ['City', 'State', 'Category', 'Sub-Category', 'Product Name']),\n",
    "    (OrdinalEncoder(), ['Ship Mode', 'Segment']),\n",
    "    remainder='passthrough'\n",
    ")"
   ]
  },
  {
   "cell_type": "code",
   "execution_count": 13,
   "id": "009c6b46",
   "metadata": {
    "scrolled": true
   },
   "outputs": [
    {
     "name": "stderr",
     "output_type": "stream",
     "text": [
      "c:\\Users\\samee\\anaconda3\\envs\\code\\Lib\\site-packages\\sklearn\\preprocessing\\_encoders.py:241: UserWarning: Found unknown categories in columns [0, 4] during transform. These unknown categories will be encoded as all zeros\n",
      "  warnings.warn(\n"
     ]
    }
   ],
   "source": [
    "X_train = column_transformer.fit_transform(X_train)\n",
    "X_test = column_transformer.transform(X_test)"
   ]
  },
  {
   "cell_type": "markdown",
   "id": "0b20f886",
   "metadata": {},
   "source": [
    "### XGBRegressor"
   ]
  },
  {
   "cell_type": "code",
   "execution_count": 14,
   "id": "458c5b8c-88ef-4ed8-86ad-269e083b2a5e",
   "metadata": {},
   "outputs": [
    {
     "name": "stdout",
     "output_type": "stream",
     "text": [
      "R2 score 0.9827155541912869\n",
      "MAE 0.015266763549625972\n"
     ]
    }
   ],
   "source": [
    "xgb = XGBRegressor(n_estimators=965, max_depth=5, learning_rate=0.13849538411627024,\n",
    "                     subsample=0.6131136484448261, colsample_bytree=0.5755192837833111, gamma=6.1659034721948654e-06,\n",
    "                     reg_alpha=0.38724218361317636, reg_lambda= 1.0074052515706472e-05, min_child_weight=4)\n",
    "xgb.fit(X_train, y_train)\n",
    "y_pred = xgb.predict(X_test)\n",
    "\n",
    "\n",
    "print('R2 score',r2_score(y_test,y_pred))\n",
    "print('MAE',mean_absolute_error(y_test,y_pred))"
   ]
  },
  {
   "cell_type": "markdown",
   "id": "33c1facd-720e-4de3-b16d-c9fe8e24e77b",
   "metadata": {},
   "source": [
    "#### delivery_time"
   ]
  },
  {
   "cell_type": "code",
   "execution_count": 4,
   "id": "bc1e9633-5e58-4850-8b83-2f68fa8599f0",
   "metadata": {},
   "outputs": [],
   "source": [
    "import pandas as pd"
   ]
  },
  {
   "cell_type": "code",
   "execution_count": 5,
   "id": "9a84c03a-e30f-48f2-b2b9-309f491ffbde",
   "metadata": {},
   "outputs": [],
   "source": [
    "df = pd.read_csv('../data/raw/Sample_Superstore.csv')\n",
    "df = transform(df)"
   ]
  },
  {
   "cell_type": "code",
   "execution_count": 109,
   "id": "b57d5646-a4cd-48ca-a892-dd7f492ad527",
   "metadata": {},
   "outputs": [
    {
     "data": {
      "text/html": [
       "<div>\n",
       "<style scoped>\n",
       "    .dataframe tbody tr th:only-of-type {\n",
       "        vertical-align: middle;\n",
       "    }\n",
       "\n",
       "    .dataframe tbody tr th {\n",
       "        vertical-align: top;\n",
       "    }\n",
       "\n",
       "    .dataframe thead th {\n",
       "        text-align: right;\n",
       "    }\n",
       "</style>\n",
       "<table border=\"1\" class=\"dataframe\">\n",
       "  <thead>\n",
       "    <tr style=\"text-align: right;\">\n",
       "      <th></th>\n",
       "      <th>Postal Code</th>\n",
       "      <th>Quantity</th>\n",
       "      <th>Discount</th>\n",
       "      <th>delivery_time</th>\n",
       "      <th>last_order</th>\n",
       "      <th>Order year</th>\n",
       "      <th>Order month</th>\n",
       "      <th>Order day</th>\n",
       "      <th>repeat_order</th>\n",
       "      <th>repeat_customer</th>\n",
       "      <th>cost price</th>\n",
       "    </tr>\n",
       "  </thead>\n",
       "  <tbody>\n",
       "    <tr>\n",
       "      <th>count</th>\n",
       "      <td>9993.000000</td>\n",
       "      <td>9993.000000</td>\n",
       "      <td>9993.000000</td>\n",
       "      <td>9993.000000</td>\n",
       "      <td>9993.000000</td>\n",
       "      <td>9993.000000</td>\n",
       "      <td>9993.000000</td>\n",
       "      <td>9993.000000</td>\n",
       "      <td>9993.000000</td>\n",
       "      <td>9993.000000</td>\n",
       "      <td>9993.000000</td>\n",
       "    </tr>\n",
       "    <tr>\n",
       "      <th>mean</th>\n",
       "      <td>55191.576403</td>\n",
       "      <td>3.789753</td>\n",
       "      <td>0.156188</td>\n",
       "      <td>3.958171</td>\n",
       "      <td>481.765536</td>\n",
       "      <td>2015.722406</td>\n",
       "      <td>7.810067</td>\n",
       "      <td>15.467727</td>\n",
       "      <td>2.991994</td>\n",
       "      <td>15.687882</td>\n",
       "      <td>53.110831</td>\n",
       "    </tr>\n",
       "    <tr>\n",
       "      <th>std</th>\n",
       "      <td>32065.074478</td>\n",
       "      <td>2.225149</td>\n",
       "      <td>0.206457</td>\n",
       "      <td>1.747654</td>\n",
       "      <td>184.748675</td>\n",
       "      <td>1.123479</td>\n",
       "      <td>3.284598</td>\n",
       "      <td>8.748441</td>\n",
       "      <td>1.964643</td>\n",
       "      <td>6.652109</td>\n",
       "      <td>122.253930</td>\n",
       "    </tr>\n",
       "    <tr>\n",
       "      <th>min</th>\n",
       "      <td>1040.000000</td>\n",
       "      <td>1.000000</td>\n",
       "      <td>0.000000</td>\n",
       "      <td>0.000000</td>\n",
       "      <td>24.000000</td>\n",
       "      <td>2014.000000</td>\n",
       "      <td>1.000000</td>\n",
       "      <td>1.000000</td>\n",
       "      <td>1.000000</td>\n",
       "      <td>1.000000</td>\n",
       "      <td>0.544500</td>\n",
       "    </tr>\n",
       "    <tr>\n",
       "      <th>25%</th>\n",
       "      <td>23223.000000</td>\n",
       "      <td>2.000000</td>\n",
       "      <td>0.000000</td>\n",
       "      <td>3.000000</td>\n",
       "      <td>324.000000</td>\n",
       "      <td>2015.000000</td>\n",
       "      <td>5.000000</td>\n",
       "      <td>8.000000</td>\n",
       "      <td>1.000000</td>\n",
       "      <td>11.000000</td>\n",
       "      <td>3.473600</td>\n",
       "    </tr>\n",
       "    <tr>\n",
       "      <th>50%</th>\n",
       "      <td>56560.000000</td>\n",
       "      <td>3.000000</td>\n",
       "      <td>0.200000</td>\n",
       "      <td>4.000000</td>\n",
       "      <td>535.000000</td>\n",
       "      <td>2016.000000</td>\n",
       "      <td>9.000000</td>\n",
       "      <td>15.000000</td>\n",
       "      <td>3.000000</td>\n",
       "      <td>15.000000</td>\n",
       "      <td>12.933600</td>\n",
       "    </tr>\n",
       "    <tr>\n",
       "      <th>75%</th>\n",
       "      <td>90008.000000</td>\n",
       "      <td>5.000000</td>\n",
       "      <td>0.200000</td>\n",
       "      <td>5.000000</td>\n",
       "      <td>630.000000</td>\n",
       "      <td>2017.000000</td>\n",
       "      <td>11.000000</td>\n",
       "      <td>23.000000</td>\n",
       "      <td>4.000000</td>\n",
       "      <td>20.000000</td>\n",
       "      <td>54.522000</td>\n",
       "    </tr>\n",
       "    <tr>\n",
       "      <th>max</th>\n",
       "      <td>99301.000000</td>\n",
       "      <td>14.000000</td>\n",
       "      <td>0.800000</td>\n",
       "      <td>7.000000</td>\n",
       "      <td>712.000000</td>\n",
       "      <td>2017.000000</td>\n",
       "      <td>12.000000</td>\n",
       "      <td>31.000000</td>\n",
       "      <td>14.000000</td>\n",
       "      <td>37.000000</td>\n",
       "      <td>4074.926400</td>\n",
       "    </tr>\n",
       "  </tbody>\n",
       "</table>\n",
       "</div>"
      ],
      "text/plain": [
       "        Postal Code     Quantity     Discount  delivery_time   last_order  \\\n",
       "count   9993.000000  9993.000000  9993.000000    9993.000000  9993.000000   \n",
       "mean   55191.576403     3.789753     0.156188       3.958171   481.765536   \n",
       "std    32065.074478     2.225149     0.206457       1.747654   184.748675   \n",
       "min     1040.000000     1.000000     0.000000       0.000000    24.000000   \n",
       "25%    23223.000000     2.000000     0.000000       3.000000   324.000000   \n",
       "50%    56560.000000     3.000000     0.200000       4.000000   535.000000   \n",
       "75%    90008.000000     5.000000     0.200000       5.000000   630.000000   \n",
       "max    99301.000000    14.000000     0.800000       7.000000   712.000000   \n",
       "\n",
       "        Order year  Order month    Order day  repeat_order  repeat_customer  \\\n",
       "count  9993.000000  9993.000000  9993.000000   9993.000000      9993.000000   \n",
       "mean   2015.722406     7.810067    15.467727      2.991994        15.687882   \n",
       "std       1.123479     3.284598     8.748441      1.964643         6.652109   \n",
       "min    2014.000000     1.000000     1.000000      1.000000         1.000000   \n",
       "25%    2015.000000     5.000000     8.000000      1.000000        11.000000   \n",
       "50%    2016.000000     9.000000    15.000000      3.000000        15.000000   \n",
       "75%    2017.000000    11.000000    23.000000      4.000000        20.000000   \n",
       "max    2017.000000    12.000000    31.000000     14.000000        37.000000   \n",
       "\n",
       "        cost price  \n",
       "count  9993.000000  \n",
       "mean     53.110831  \n",
       "std     122.253930  \n",
       "min       0.544500  \n",
       "25%       3.473600  \n",
       "50%      12.933600  \n",
       "75%      54.522000  \n",
       "max    4074.926400  "
      ]
     },
     "execution_count": 109,
     "metadata": {},
     "output_type": "execute_result"
    }
   ],
   "source": [
    "df.describe()"
   ]
  },
  {
   "cell_type": "code",
   "execution_count": 111,
   "id": "c712c9a4-17db-4c44-b89c-99aa885bfc04",
   "metadata": {
    "collapsed": true,
    "jupyter": {
     "outputs_hidden": true
    }
   },
   "outputs": [
    {
     "data": {
      "text/plain": [
       "delivery_time\n",
       "4    2773\n",
       "5    2169\n",
       "2    1334\n",
       "6    1203\n",
       "3    1005\n",
       "7     621\n",
       "0     519\n",
       "1     369\n",
       "Name: count, dtype: int64"
      ]
     },
     "execution_count": 111,
     "metadata": {},
     "output_type": "execute_result"
    }
   ],
   "source": [
    "df.delivery_time.value_counts()"
   ]
  },
  {
   "cell_type": "code",
   "execution_count": 41,
   "id": "0572761c-6c1f-4185-8311-f61f24b60785",
   "metadata": {},
   "outputs": [],
   "source": [
    "df = df.drop(columns=['Sales', 'Order ID', 'Customer ID', 'Product ID', 'Profit', 'Price(before discount)', 'Discount'])\n"
   ]
  },
  {
   "cell_type": "code",
   "execution_count": 42,
   "id": "bc446dc3-9d22-4dee-bc5c-317147a1e23e",
   "metadata": {},
   "outputs": [],
   "source": [
    "X=df.drop(columns=['delivery_time'])\n",
    "y=df['delivery_time']"
   ]
  },
  {
   "cell_type": "code",
   "execution_count": 10,
   "id": "f4817e34-346b-4698-b9e9-8339d6f05715",
   "metadata": {},
   "outputs": [],
   "source": [
    "X_train, X_test, y_train, y_test = train_test_split(X, y, test_size=0.3, random_state=42)"
   ]
  },
  {
   "cell_type": "code",
   "execution_count": 11,
   "id": "c5962531-0c9e-4146-b63f-9de62a5d3a38",
   "metadata": {},
   "outputs": [],
   "source": [
    "column_transformer = make_column_transformer(\n",
    "    (OneHotEncoder(drop='first', handle_unknown='ignore'), ['City', 'State', 'Region', 'Category', 'Sub-Category', 'Product Name']),\n",
    "    (OrdinalEncoder(), ['Ship Mode', 'Segment']),\n",
    "    (StandardScaler(), ['last_order', 'repeat_order', 'Quantity', 'Order year', 'Order month', 'Order day', 'cost price']), \n",
    "    remainder='passthrough'\n",
    ")"
   ]
  },
  {
   "cell_type": "code",
   "execution_count": 44,
   "id": "81ca77cf-7d74-48a9-a49e-724d42319221",
   "metadata": {
    "scrolled": true
   },
   "outputs": [
    {
     "name": "stderr",
     "output_type": "stream",
     "text": [
      "C:\\Users\\samee\\anaconda3\\envs\\code\\Lib\\site-packages\\sklearn\\preprocessing\\_encoders.py:241: UserWarning: Found unknown categories in columns [0, 5] during transform. These unknown categories will be encoded as all zeros\n",
      "  warnings.warn(\n"
     ]
    }
   ],
   "source": [
    "X_train = column_transformer.fit_transform(X_train)\n",
    "X_test = column_transformer.transform(X_test)"
   ]
  },
  {
   "cell_type": "markdown",
   "id": "184c92e7-96c0-4f27-80ab-f579d9166644",
   "metadata": {},
   "source": [
    "In this dataset I've tried multiple things to get better accuracy. But the probem is we are having inbalanced class. Now I'm going to figure this out.\n",
    "\n",
    "One problem is this is a multiclass problem\n",
    "- Under Sampling: we gonna loss lots of information\n",
    "- "
   ]
  },
  {
   "cell_type": "markdown",
   "id": "6919c5e9-686e-4bdc-8356-d3076ec053ae",
   "metadata": {
    "jp-MarkdownHeadingCollapsed": true
   },
   "source": [
    "### Random_underSampling"
   ]
  },
  {
   "cell_type": "code",
   "execution_count": 28,
   "id": "9e84dd2c-a2ac-4799-ba0f-246511b27028",
   "metadata": {},
   "outputs": [
    {
     "name": "stdout",
     "output_type": "stream",
     "text": [
      "New class distribution after undersampling: Counter({0: 369, 1: 369, 2: 369, 3: 369, 4: 369, 5: 369, 6: 369, 7: 369})\n"
     ]
    }
   ],
   "source": [
    "from imblearn.under_sampling import RandomUnderSampler\n",
    "from collections import Counter\n",
    "\n",
    "# Use RandomUnderSampler to balance the dataset\n",
    "undersampler = RandomUnderSampler(sampling_strategy='auto', random_state=42)\n",
    "X_resampled, y_resampled = undersampler.fit_resample(X, y)\n",
    "\n",
    "# Check the new class distribution after undersampling\n",
    "print(\"New class distribution after undersampling:\", Counter(y_resampled))"
   ]
  },
  {
   "cell_type": "code",
   "execution_count": 29,
   "id": "40d88eac-66f5-45ad-80ba-cc024cef1017",
   "metadata": {},
   "outputs": [],
   "source": [
    "X_train, X_test, y_train, y_test = train_test_split(X_resampled, y_resampled, test_size=0.3, random_state=42)"
   ]
  },
  {
   "cell_type": "code",
   "execution_count": 30,
   "id": "27e0a4a8-0ab4-41ec-b59d-083cf38317bc",
   "metadata": {
    "scrolled": true
   },
   "outputs": [
    {
     "name": "stderr",
     "output_type": "stream",
     "text": [
      "C:\\Users\\samee\\anaconda3\\envs\\code\\Lib\\site-packages\\sklearn\\preprocessing\\_encoders.py:241: UserWarning: Found unknown categories in columns [0, 1, 5] during transform. These unknown categories will be encoded as all zeros\n",
      "  warnings.warn(\n"
     ]
    }
   ],
   "source": [
    "X_train = column_transformer.fit_transform(X_train)\n",
    "X_test = column_transformer.transform(X_test)"
   ]
  },
  {
   "cell_type": "code",
   "execution_count": 33,
   "id": "e266384c-244d-48db-bbc4-1aed6f6d3200",
   "metadata": {},
   "outputs": [
    {
     "name": "stdout",
     "output_type": "stream",
     "text": [
      "              precision    recall  f1-score   support\n",
      "\n",
      "           0       0.97      0.99      0.98       117\n",
      "           1       0.62      0.71      0.66       111\n",
      "           2       0.53      0.47      0.50       113\n",
      "           3       0.54      0.53      0.54       116\n",
      "           4       0.33      0.30      0.31       105\n",
      "           5       0.32      0.29      0.30       100\n",
      "           6       0.44      0.37      0.40       122\n",
      "           7       0.38      0.51      0.43       102\n",
      "\n",
      "    accuracy                           0.53       886\n",
      "   macro avg       0.52      0.52      0.52       886\n",
      "weighted avg       0.52      0.53      0.52       886\n",
      "\n"
     ]
    }
   ],
   "source": [
    "# Train a simple logistic regression model\n",
    "from sklearn.tree import DecisionTreeClassifier\n",
    "from sklearn.metrics import accuracy_score, precision_score, recall_score, f1_score, classification_report, confusion_matrix\n",
    "model = DecisionTreeClassifier()\n",
    "model.fit(X_train, y_train)\n",
    "\n",
    "# Make predictions\n",
    "y_pred = model.predict(X_test)\n",
    "\n",
    "# Evaluate the model\n",
    "accuracy = accuracy_score(y_test, y_pred)\n",
    "confusion = confusion_matrix(y_test, y_pred)\n",
    "classification_report_str = classification_report(y_test, y_pred)\n",
    "\n",
    "print(classification_report_str)"
   ]
  },
  {
   "cell_type": "markdown",
   "id": "01bab350-cfe2-447a-a3c5-b7e76ce29663",
   "metadata": {
    "jp-MarkdownHeadingCollapsed": true
   },
   "source": [
    "### BalancedRandomForestClassifier"
   ]
  },
  {
   "cell_type": "code",
   "execution_count": 45,
   "id": "c866bba7-7a07-4363-b08d-e3656abb76e3",
   "metadata": {},
   "outputs": [
    {
     "name": "stdout",
     "output_type": "stream",
     "text": [
      "Classification Report:\n",
      "              precision    recall  f1-score   support\n",
      "\n",
      "           0       0.61      0.87      0.72       158\n",
      "           1       0.65      0.66      0.66       115\n",
      "           2       0.57      0.68      0.62       410\n",
      "           3       0.56      0.71      0.63       283\n",
      "           4       0.63      0.48      0.55       829\n",
      "           5       0.60      0.40      0.48       671\n",
      "           6       0.42      0.57      0.48       339\n",
      "           7       0.38      0.51      0.44       193\n",
      "\n",
      "    accuracy                           0.55      2998\n",
      "   macro avg       0.55      0.61      0.57      2998\n",
      "weighted avg       0.57      0.55      0.55      2998\n",
      "\n"
     ]
    }
   ],
   "source": [
    "from imblearn.ensemble import BalancedRandomForestClassifier\n",
    "brf = BalancedRandomForestClassifier(\n",
    "    n_estimators=100, random_state=0, sampling_strategy=\"all\", replacement=True,\n",
    "    bootstrap=False,\n",
    ")\n",
    "brf.fit(X_train, y_train)\n",
    "y_pred = brf.predict(X_test)\n",
    "\n",
    "# Evaluate the model\n",
    "print(\"Classification Report:\")\n",
    "print(classification_report(y_test, y_pred))"
   ]
  },
  {
   "cell_type": "markdown",
   "id": "bbb7ce51-b87f-4d7d-86b7-f889cd30b05a",
   "metadata": {},
   "source": [
    "### RandomOverSampler"
   ]
  },
  {
   "cell_type": "code",
   "execution_count": 14,
   "id": "1d133401-7073-4276-8821-1f568443d933",
   "metadata": {},
   "outputs": [],
   "source": [
    "from imblearn.over_sampling import RandomOverSampler\n",
    "ros = RandomOverSampler(sampling_strategy='auto', random_state=42)\n",
    "X_resampled, y_resampled = ros.fit_resample(X, y)"
   ]
  },
  {
   "cell_type": "code",
   "execution_count": 15,
   "id": "59b7143a-a8c6-4375-9e86-5cf8023f5cbc",
   "metadata": {},
   "outputs": [],
   "source": [
    "X_train, X_test, y_train, y_test = train_test_split(X_resampled, y_resampled, test_size=0.3, random_state=42)"
   ]
  },
  {
   "cell_type": "code",
   "execution_count": 16,
   "id": "d3946581-55a0-466f-80c4-94ac4e0ce38b",
   "metadata": {
    "scrolled": true
   },
   "outputs": [
    {
     "name": "stderr",
     "output_type": "stream",
     "text": [
      "C:\\Users\\samee\\anaconda3\\envs\\code\\Lib\\site-packages\\sklearn\\preprocessing\\_encoders.py:241: UserWarning: Found unknown categories in columns [0, 5] during transform. These unknown categories will be encoded as all zeros\n",
      "  warnings.warn(\n"
     ]
    }
   ],
   "source": [
    "X_train = column_transformer.fit_transform(X_train)\n",
    "X_test = column_transformer.transform(X_test)"
   ]
  },
  {
   "cell_type": "code",
   "execution_count": 70,
   "id": "7980b9ec-6fe0-4902-8663-814959e2b6eb",
   "metadata": {},
   "outputs": [
    {
     "name": "stdout",
     "output_type": "stream",
     "text": [
      "              precision    recall  f1-score   support\n",
      "\n",
      "           0       1.00      1.00      1.00       863\n",
      "           1       0.96      1.00      0.98       790\n",
      "           2       0.92      0.91      0.92       824\n",
      "           3       0.93      0.95      0.94       821\n",
      "           4       0.77      0.61      0.68       857\n",
      "           5       0.77      0.73      0.75       848\n",
      "           6       0.79      0.90      0.84       813\n",
      "           7       0.91      0.98      0.95       840\n",
      "\n",
      "    accuracy                           0.88      6656\n",
      "   macro avg       0.88      0.89      0.88      6656\n",
      "weighted avg       0.88      0.88      0.88      6656\n",
      "\n"
     ]
    }
   ],
   "source": [
    "# Train a simple logistic regression model\n",
    "from sklearn.tree import DecisionTreeClassifier\n",
    "from sklearn.metrics import accuracy_score, precision_score, recall_score, f1_score, classification_report, confusion_matrix\n",
    "model = DecisionTreeClassifier()\n",
    "model.fit(X_train, y_train)\n",
    "\n",
    "# Make predictions\n",
    "y_pred = model.predict(X_test)\n",
    "\n",
    "# Evaluate the model\n",
    "accuracy = accuracy_score(y_test, y_pred)\n",
    "confusion = confusion_matrix(y_test, y_pred)\n",
    "classification_report_str = classification_report(y_test, y_pred)\n",
    "\n",
    "print(classification_report_str)"
   ]
  },
  {
   "cell_type": "code",
   "execution_count": null,
   "id": "73edaae9-4f2b-4a7d-b4f1-3c3d3159ef13",
   "metadata": {},
   "outputs": [],
   "source": []
  },
  {
   "cell_type": "code",
   "execution_count": 22,
   "id": "6284bf3c-264f-49b9-9197-5d7a58e30a8a",
   "metadata": {},
   "outputs": [
    {
     "name": "stdout",
     "output_type": "stream",
     "text": [
      "R2 score 0.97079426713354\n",
      "MAE 0.1988902211866955\n"
     ]
    }
   ],
   "source": [
    "step2 = ExtraTreesRegressor(n_estimators=450,\n",
    "                            random_state=42,\n",
    "                            min_samples_leaf=3,\n",
    "                            min_samples_split=5,\n",
    "                            max_features=None,\n",
    "                            max_depth=None)\n",
    "step2.fit(X_train, y_train)\n",
    "y_pred = step2.predict(X_test)\n",
    "\n",
    "\n",
    "print('R2 score',r2_score(y_test,y_pred))\n",
    "print('MAE',mean_absolute_error(y_test,y_pred))"
   ]
  },
  {
   "cell_type": "code",
   "execution_count": 23,
   "id": "059be7f2-8b55-478e-8cf3-998efda55ebd",
   "metadata": {},
   "outputs": [
    {
     "data": {
      "text/plain": [
       "array([2.22916755, 0.        , 4.56122222, 1.94546208, 1.00135802,\n",
       "       4.08585185, 1.        , 4.98781481, 2.99744444, 0.        ,\n",
       "       6.94459259, 6.65664815, 2.99751852, 3.4446746 , 1.00350617,\n",
       "       2.1282522 , 5.99288889, 0.        , 5.23196296, 5.5307037 ,\n",
       "       6.98255556, 1.00388889, 1.        , 6.94944444, 5.983     ,\n",
       "       2.32808113, 4.9545291 , 5.16377778, 2.05314815, 1.00978836,\n",
       "       2.05848148, 4.92140741, 2.13211111, 5.84892593, 0.        ,\n",
       "       4.37130159, 0.        , 4.85185185, 3.44444444, 5.97344444,\n",
       "       3.        , 5.48555556, 6.9575873 , 1.02671958, 0.        ,\n",
       "       4.96022222, 2.95850794, 2.81933862, 3.138     , 2.97718519])"
      ]
     },
     "execution_count": 23,
     "metadata": {},
     "output_type": "execute_result"
    }
   ],
   "source": [
    "y_pred[:50]"
   ]
  },
  {
   "cell_type": "code",
   "execution_count": 24,
   "id": "5cbdf3c7-c9e3-41e7-a9fc-077c89673455",
   "metadata": {},
   "outputs": [],
   "source": [
    "import numpy as np\n",
    "\n",
    "def apply_threshold(y_pred, threshold=0.5):\n",
    "    \"\"\"\n",
    "    Apply threshold rounding to the predicted values.\n",
    "    \n",
    "    Parameters:\n",
    "    y_pred (list or array): The predicted values.\n",
    "    threshold (float): The threshold for rounding.\n",
    "    \n",
    "    Returns:\n",
    "    list: The adjusted predicted values.\n",
    "    \"\"\"\n",
    "    adjusted_values = []\n",
    "    for value in y_pred:\n",
    "        if value - int(value) < threshold:\n",
    "            adjusted_values.append(int(value))\n",
    "        else:\n",
    "            adjusted_values.append(int(value) + 1)\n",
    "    return adjusted_values\n",
    "\n"
   ]
  },
  {
   "cell_type": "code",
   "execution_count": 27,
   "id": "7b1ef8cc-b192-4b04-b1b2-f9177e628031",
   "metadata": {},
   "outputs": [
    {
     "name": "stdout",
     "output_type": "stream",
     "text": [
      "[2, 0, 5, 2, 1, 4, 1, 5, 3, 0]\n"
     ]
    }
   ],
   "source": [
    "adjusted_y_pred = apply_threshold(y_pred[:10])\n",
    "print(adjusted_y_pred)"
   ]
  },
  {
   "cell_type": "code",
   "execution_count": null,
   "id": "29feb890-aca9-4848-b5fe-36c5979e79cc",
   "metadata": {},
   "outputs": [],
   "source": []
  }
 ],
 "metadata": {
  "kernelspec": {
   "display_name": "Python 3 (ipykernel)",
   "language": "python",
   "name": "python3"
  },
  "language_info": {
   "codemirror_mode": {
    "name": "ipython",
    "version": 3
   },
   "file_extension": ".py",
   "mimetype": "text/x-python",
   "name": "python",
   "nbconvert_exporter": "python",
   "pygments_lexer": "ipython3",
   "version": "3.11.8"
  }
 },
 "nbformat": 4,
 "nbformat_minor": 5
}
